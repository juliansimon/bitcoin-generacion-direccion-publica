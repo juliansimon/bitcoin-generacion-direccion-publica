{
  "nbformat": 4,
  "nbformat_minor": 0,
  "metadata": {
    "colab": {
      "provenance": []
    },
    "kernelspec": {
      "name": "python3",
      "display_name": "Python 3"
    },
    "language_info": {
      "name": "python"
    }
  },
  "cells": [
    {
      "cell_type": "markdown",
      "source": [
        "# Generación de la clave privada, cláve pública y la dirección en Bitcoin  \n",
        "\n",
        "Vamos a realizar un ejercicio práctico de creación de las claves de Bitcoin con Python.\n",
        "\n",
        "Antes que nada advertir que no recomendamos utilizar este método si tienes intención de que esta clave privada sea la llave de tus fondos de bitcoin, para ello lo más conveniente es generar esa(s) clave(s) a partir de las palabras de la semilla más una passphrase y desde un dispositivo que no esté conectado a Internet (off-line). \n",
        "Aquí dejo un post [Generar claves privadas en Bitcoin de forma segura y barata](https://bgeometrics.com/2020/06/17/generar-claves-privadas-en-bitcion-forma-segura-y-barata/) sobre una de las posibles formas de creación de las claves de forma segura. \n",
        "\n",
        "Si optásemos por utilizar la librería de bitcoin de Python esto se resolvería en estas 4 líneas de código, pero la intención que buscamos es hacerlo a un nivel más bajo para entender las operaciones que se hacen en bitcoin para esta generación de estas claves.\n",
        "\n",
        "`from bitcoin import *`\n",
        "\n",
        "`my_private_key = random_key()`\n",
        "\n",
        "`my_public_key = privtopub(my_private_key)`\n",
        "\n",
        "`my_bitcoin_address = pubtoaddr(my_public_key)`\n"
      ],
      "metadata": {
        "id": "zz46fFYbArVs"
      }
    },
    {
      "cell_type": "code",
      "source": [
        "# Instalamos los módulos base58 y ecdsa\n",
        "!pip install base58\n",
        "!pip install ecdsa"
      ],
      "metadata": {
        "colab": {
          "base_uri": "https://localhost:8080/"
        },
        "id": "HDZBWOQHqcR8",
        "outputId": "8b1a4535-1da7-41e0-d0f6-342820e05697"
      },
      "execution_count": 1,
      "outputs": [
        {
          "output_type": "stream",
          "name": "stdout",
          "text": [
            "Looking in indexes: https://pypi.org/simple, https://us-python.pkg.dev/colab-wheels/public/simple/\n",
            "Requirement already satisfied: base58 in /usr/local/lib/python3.8/dist-packages (2.1.1)\n",
            "Looking in indexes: https://pypi.org/simple, https://us-python.pkg.dev/colab-wheels/public/simple/\n",
            "Requirement already satisfied: ecdsa in /usr/local/lib/python3.8/dist-packages (0.18.0)\n",
            "Requirement already satisfied: six>=1.9.0 in /usr/local/lib/python3.8/dist-packages (from ecdsa) (1.15.0)\n"
          ]
        }
      ]
    },
    {
      "cell_type": "code",
      "execution_count": 2,
      "metadata": {
        "id": "D-9PziDAqArM"
      },
      "outputs": [],
      "source": [
        "# Importamos las siguientes librerías\n",
        "import os\n",
        "import binascii\n",
        "import base58\n",
        "import ecdsa\n",
        "import hashlib\n",
        "from hashlib import sha256\n",
        "import codecs\n",
        "import time\n",
        "import random"
      ]
    },
    {
      "cell_type": "code",
      "source": [
        "# Generación aleatoria de la clave privada\n",
        "my_privatekey = \"\"\n",
        "\n",
        "entropy = str(os.urandom(32)) \\\n",
        "        + str(random.randrange(2**256)) \\\n",
        "        + str(int(time.time() * 1000000))\n",
        "\n",
        "binary_data = entropy if isinstance(entropy, bytes) else bytes(entropy, 'utf-8')\n",
        "my_privatekey_bytes = hashlib.sha256(binary_data).digest()\n",
        "\n",
        "if isinstance(my_privatekey_bytes, str):\n",
        "  my_privatekey =  my_privatekey_bytes\n",
        "else:\n",
        "  my_privatekey = ''.join('{:02x}'.format(y) for y in my_privatekey_bytes)"
      ],
      "metadata": {
        "id": "jsLtO2ufWZF_"
      },
      "execution_count": 3,
      "outputs": []
    },
    {
      "cell_type": "code",
      "source": [
        "# Generación de la dirección pública a partir de la clave privada\n",
        "my_publickey_raw = ecdsa.SigningKey.from_string(my_privatekey_bytes, curve=ecdsa.SECP256k1)\n",
        "my_publickey_raw_verify = my_publickey_raw.verifying_key\n",
        "my_publickey_bytes = my_publickey_raw_verify.to_string()\n",
        "\n",
        "# Conversión de la clave pública al formato hexadecimal desde los bytes\n",
        "my_publickey_hex = codecs.encode(my_publickey_bytes, 'hex')\n",
        "\n",
        "# Se añade los bytes 0x04 al principio de la clave pública de Bitcoin \n",
        "my_publickey = (b'04' + my_publickey_hex).decode(\"utf-8\")\n",
        "print(\"Public key: \", my_publickey)\n",
        "\n",
        "# Dependiendo de si el último byte es par o impar se añade un 02 o un 03\n",
        "if (ord(bytearray.fromhex(my_publickey[-2:])) % 2 == 0):\n",
        "    my_publickey_comp = '02'\n",
        "else:\n",
        "    my_publickey_comp = '03'\n",
        "    \n",
        "my_publickey_comp += my_publickey[2:66]\n",
        "print(\"Public key compressed: \", my_publickey_comp)\n",
        "\n",
        "# Se realiza la operaión hash de SHA-256 al array de bytes \n",
        "hex_byte_array = bytearray.fromhex(my_publickey_comp)\n",
        "sha256 = hashlib.sha256()\n",
        "sha256.update(hex_byte_array)\n",
        "sha256.hexdigest() # .hexdigest() is hex ASCII\n",
        "\n",
        "# Hashing RIPMED-160 al resultado del SHA-256\n",
        "rip160 = hashlib.new('ripemd160')\n",
        "rip160.update(sha256.digest())\n",
        "key_hash = rip160.hexdigest()\n",
        "\n",
        "# Se añade el byte de version delate del hash de RIPEMD-160 (0x00 para la Main Network)\n",
        "modified_key_hash = \"00\" + key_hash\n",
        "\n",
        "# Hash SHA-256 del RIPEMD-160 resultante, después de la codificación Base58Check\n",
        "sha256 = hashlib.sha256() \n",
        "hex_byte_array = bytearray.fromhex(modified_key_hash)\n",
        "sha256.update(hex_byte_array)\n",
        "sha256.hexdigest()\n",
        "\n",
        "# Se realiza un segundo hash SHA-256 del resutado del previo hash SHA-256\n",
        "sha256_2 = hashlib.sha256()\n",
        "sha256_2.update(sha256_2.digest())\n",
        "sha256_2.hexdigest()\n",
        "\n",
        "# Se toman los primeros 4 bytes del segundo hash SHA-256 para el checksum\n",
        "checksum = sha256_2.hexdigest()[:8]\n",
        "\n",
        "# Y por último para obtener la dirección pública se añaden los 4 bytes del checksum y se codifica en base58\n",
        "byte_25_address = modified_key_hash + checksum\n",
        "byte_25_address_array = bytearray.fromhex(byte_25_address)\n",
        "my_address = base58.b58encode(bytes(byte_25_address_array)).decode('utf-8')\n",
        "print(\"Address: \", my_address)"
      ],
      "metadata": {
        "colab": {
          "base_uri": "https://localhost:8080/"
        },
        "id": "p-k-psplrVql",
        "outputId": "a3b3f8d8-4e51-4cd1-e194-83ec56092af8"
      },
      "execution_count": 4,
      "outputs": [
        {
          "output_type": "stream",
          "name": "stdout",
          "text": [
            "Public key:  041c283524f5311709bf66828cb4226a3a2c85d8e643575af155dba0ce538ef4f8ef797194e9c1996cba79d02a2138e6ae809621d69a68a087edc5ba8b5adf4623\n",
            "Public key compressed:  031c283524f5311709bf66828cb4226a3a2c85d8e643575af155dba0ce538ef4f8\n",
            "Address:  1DtuGzYHST7HHCVbYuzr6AJmgZUKMYkgw3\n"
          ]
        }
      ]
    },
    {
      "cell_type": "code",
      "source": [],
      "metadata": {
        "id": "tkYzJaF-VmJx"
      },
      "execution_count": 4,
      "outputs": []
    }
  ]
}